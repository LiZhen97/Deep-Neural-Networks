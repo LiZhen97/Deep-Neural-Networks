{
  "cells": [
    {
      "cell_type": "markdown",
      "metadata": {
        "id": "view-in-github",
        "colab_type": "text"
      },
      "source": [
        "<a href=\"https://colab.research.google.com/github/LiZhen97/Deep-Neural-Networks/blob/main/assignment_ZhenLi_class5.ipynb\" target=\"_parent\"><img src=\"https://colab.research.google.com/assets/colab-badge.svg\" alt=\"Open In Colab\"/></a>"
      ]
    },
    {
      "cell_type": "markdown",
      "metadata": {
        "id": "domrnonINuu4"
      },
      "source": [
        "<a href=\"https://colab.research.google.com/github/jeffheaton/t81_558_deep_learning/blob/master/assignments/assignment_yourname_class5.ipynb\" target=\"_parent\"><img src=\"https://colab.research.google.com/assets/colab-badge.svg\" alt=\"Open In Colab\"/></a>"
      ]
    },
    {
      "cell_type": "markdown",
      "metadata": {
        "id": "hTAVwaaOFuEf"
      },
      "source": [
        "# T81-558: Applications of Deep Neural Networks\n",
        "* Instructor: [Jeff Heaton](https://sites.wustl.edu/jeffheaton/), School of Engineering and Applied Science, [Washington University in St. Louis](https://engineering.wustl.edu/Programs/Pages/default.aspx)\n",
        "* For more information visit the [class website](https://sites.wustl.edu/jeffheaton/t81-558/).\n",
        "\n",
        "**Module 5 Assignment: Predicting Home Prices**\n",
        "\n",
        "**Student Name: Your Name**"
      ]
    },
    {
      "cell_type": "markdown",
      "metadata": {
        "id": "4YUdI4CcFuEg"
      },
      "source": [
        "# Assignment Instructions\n",
        "\n",
        "This assignment asks you to train a neural network to predict housing prices.  I provide you with two different datasets.  You will use one data set, which includes house prices for training.  A second dataset, which does not include house prices, will be used for prediction and be submitted for evaluation.  I also give you a third dataset that contains median income for zip codes that must be joined to both the training/test datasets to provide an additional input value.  You must use the median income with your inputs for extra predictive power.\n",
        "\n",
        "You can find all of the needed CSV files here:\n",
        "\n",
        "* [House Prices - Training](https://data.heatonresearch.com/data/t81-558/datasets/houses_train.csv)\n",
        "* [House Prices - Submit](https://data.heatonresearch.com/data/t81-558/datasets/houses_test.csv)\n",
        "* [Median Income by Zipcode](https://data.heatonresearch.com/data/t81-558/datasets/zips.csv)\n",
        "\n",
        "The median income by zipcode provides an additional feature, median income, that you should use in your predictions.  To complete this assignment perform the following steps:\n",
        "\n",
        "* Load the housing prices training data.\n",
        "* Join the median income by zipcode to the training data so that you gain the median income.\n",
        "* Train a model to predict house price when given the following inputs: 'bedrooms', 'bathrooms', 'garage', 'land', 'sqft', 'median_income'.\n",
        "* Load the housing prices test data.  This data does not contain the house price, you must predict this.\n",
        "* Join the median income by zipcode to the test/submit data to gain the median income.\n",
        "* Predict prices for the test/submit data.  \n",
        "* Create a submission dataset that contains the house id (from the test/submit data) and the predicted price for that house.  Include no other fields.\n",
        "* Submit this dataset and see how close you are to the actual values.\n",
        "\n",
        "The RMSE should be less than 10K, which means that you are predicting within +/- $10,000 the actual price is sufficient to complete the assignment.  You may also wish to see if you can get your prediction even more accurate.\n",
        "\n",
        "A few notes/suggestions on this assignment:\n",
        "\n",
        "* You will see really high loss rates, due to the face that the target value is the price of a house (which is a large number)\n",
        "* You might want to add a RMSE metric, which is the error in the same units target value. \n",
        "* I was able to obtain an RMSE of 86; yet still had a fairly high loss of 25920990.\n",
        "* To add RMSE as a metric:\n",
        "```\n",
        "model.compile(loss='mean_squared_error', metrics=[tf.keras.metrics.RootMeanSquaredError()], optimizer=opt)\n",
        "```\n",
        "# Google CoLab Instructions\n",
        "If you are using Google CoLab, it will be necessary to mount your GDrive to send your notebook during the submit process. Running the following code will map your GDrive to /content/drive."
      ]
    },
    {
      "cell_type": "code",
      "execution_count": 1,
      "metadata": {
        "id": "9ZvFFOR5A-Wo",
        "colab": {
          "base_uri": "https://localhost:8080/"
        },
        "outputId": "da50d6e1-0c11-4b6a-a0c3-ce027daefe6d"
      },
      "outputs": [
        {
          "output_type": "stream",
          "name": "stdout",
          "text": [
            "Mounted at /content/drive\n",
            "Note: using Google CoLab\n"
          ]
        }
      ],
      "source": [
        "try:\n",
        "    from google.colab import drive\n",
        "    drive.mount('/content/drive', force_remount=True)\n",
        "    COLAB = True\n",
        "    print(\"Note: using Google CoLab\")\n",
        "except:\n",
        "    print(\"Note: not using Google CoLab\")\n",
        "    COLAB = False"
      ]
    },
    {
      "cell_type": "markdown",
      "metadata": {
        "id": "4qrsT_KZFuEh"
      },
      "source": [
        "# Assignment Submit Function\n",
        "\n",
        "You will submit the 10 programming assignments electronically.  The following submit function can be used to do this.  My server will perform a basic check of each assignment and let you know if it sees any basic problems. \n",
        "\n",
        "**It is unlikely that should need to modify this function.**"
      ]
    },
    {
      "cell_type": "code",
      "execution_count": 2,
      "metadata": {
        "id": "43KOAL0OFuEi"
      },
      "outputs": [],
      "source": [
        "import base64\n",
        "import os\n",
        "import numpy as np\n",
        "import pandas as pd\n",
        "import requests\n",
        "import PIL\n",
        "import PIL.Image\n",
        "import io\n",
        "\n",
        "# This function submits an assignment.  You can submit an assignment as much as you like, only the final\n",
        "# submission counts.  The paramaters are as follows:\n",
        "# data - List of pandas dataframes or images.\n",
        "# key - Your student key that was emailed to you.\n",
        "# no - The assignment class number, should be 1 through 1.\n",
        "# source_file - The full path to your Python or IPYNB file.  This must have \"_class1\" as part of its name.  \n",
        "# .             The number must match your assignment number.  For example \"_class2\" for class assignment #2.\n",
        "def submit(data,key,no,source_file=None):\n",
        "    if source_file is None and '__file__' not in globals(): raise Exception('Must specify a filename when a Jupyter notebook.')\n",
        "    if source_file is None: source_file = __file__\n",
        "    suffix = '_class{}'.format(no)\n",
        "    if suffix not in source_file: raise Exception('{} must be part of the filename.'.format(suffix))\n",
        "    with open(source_file, \"rb\") as image_file:\n",
        "        encoded_python = base64.b64encode(image_file.read()).decode('ascii')\n",
        "    ext = os.path.splitext(source_file)[-1].lower()\n",
        "    if ext not in ['.ipynb','.py']: raise Exception(\"Source file is {} must be .py or .ipynb\".format(ext))\n",
        "    payload = []\n",
        "    for item in data:\n",
        "        if type(item) is PIL.Image.Image:\n",
        "            buffered = BytesIO()\n",
        "            item.save(buffered, format=\"PNG\")\n",
        "            payload.append({'PNG':base64.b64encode(buffered.getvalue()).decode('ascii')})\n",
        "        elif type(item) is pd.core.frame.DataFrame:\n",
        "            payload.append({'CSV':base64.b64encode(item.to_csv(index=False).encode('ascii')).decode(\"ascii\")})\n",
        "    r= requests.post(\"https://api.heatonresearch.com/assignment-submit\",\n",
        "        headers={'x-api-key':key}, json={ 'payload': payload,'assignment': no, 'ext':ext, 'py':encoded_python})\n",
        "    if r.status_code==200:\n",
        "        print(\"Success: {}\".format(r.text))\n",
        "    else: print(\"Failure: {}\".format(r.text))"
      ]
    },
    {
      "cell_type": "markdown",
      "metadata": {
        "collapsed": true,
        "id": "zd5fX98YFuEm"
      },
      "source": [
        "# Assignment #5 Sample Code\n",
        "\n",
        "The following code provides a starting point for this assignment."
      ]
    },
    {
      "cell_type": "code",
      "source": [
        "from scipy.stats import zscore\n",
        "from sklearn.model_selection import train_test_split\n",
        "from sklearn import metrics"
      ],
      "metadata": {
        "id": "JJmrNA_yMq30"
      },
      "execution_count": 13,
      "outputs": []
    },
    {
      "cell_type": "code",
      "execution_count": 52,
      "metadata": {
        "id": "lIB3MmKuFuEn",
        "scrolled": true
      },
      "outputs": [],
      "source": [
        "import os\n",
        "import pandas as pd\n",
        "from scipy.stats import zscore\n",
        "from tensorflow.keras.models import Sequential\n",
        "from tensorflow.keras.layers import Dense, Activation, Dropout\n",
        "import pandas as pd\n",
        "import io\n",
        "import requests\n",
        "import numpy as np\n",
        "from sklearn import metrics\n",
        "from sklearn.model_selection import KFold\n",
        "from tensorflow.keras.callbacks import EarlyStopping, ModelCheckpoint\n",
        "from scipy.stats import zscore\n",
        "\n",
        "# This is your student key that I emailed to you at the beginnning of the semester.\n",
        "key = \"eaT4qNtOTV4YNWzOIPMr83juoEsVZAkH7gPcxQ4P\"  # This is an example key and will not work.\n",
        "\n",
        "# You must also identify your source file.  (modify for your local setup)\n",
        "file='/content/drive/My Drive/Colab Notebooks/assignment_ZhenLi_class5.ipynb'  # Google CoLab\n",
        "# file='C:\\\\Users\\\\jeffh\\\\projects\\\\t81_558_deep_learning\\\\assignments\\\\assignment_yourname_class5.ipynb'  # Windows\n",
        "# file='/Users/jheaton/projects/t81_558_deep_learning/assignments/assignment_yourname_class5.ipynb'  # Mac/Linux\n",
        "\n",
        "# Begin assignment\n",
        "#df_houses_train = pd.read_csv(\"https://data.heatonresearch.com/data/t81-558/datasets/houses_train.csv\")\n",
        "#df_houses_submit = pd.read_csv(\"https://data.heatonresearch.com/data/t81-558/datasets/houses_test.csv\")\n",
        "#df_zips = pd.read_csv(\"https://data.heatonresearch.com/data/t81-558/datasets/zips.csv\")\n",
        "\n",
        "\n",
        "#submit(source_file=file,data=[df_submit],key=key,no=5)"
      ]
    },
    {
      "cell_type": "code",
      "source": [
        "print(df_houses_train)\n",
        "print(df_zips)"
      ],
      "metadata": {
        "id": "tlvPEQL7Ie3K"
      },
      "execution_count": null,
      "outputs": []
    },
    {
      "cell_type": "code",
      "source": [
        "df_houses_train = pd.merge(df_houses_train, df_zips, on='zip')\n",
        "df_houses_submit = pd.merge(df_houses_submit, df_zips, on='zip')"
      ],
      "metadata": {
        "id": "hSFJVibiJGWb"
      },
      "execution_count": 43,
      "outputs": []
    },
    {
      "cell_type": "code",
      "source": [
        "df_houses_train"
      ],
      "metadata": {
        "id": "lVSEyb7KMEWj"
      },
      "execution_count": null,
      "outputs": []
    },
    {
      "cell_type": "code",
      "source": [
        "x = df_houses_train.drop(['price','id','zip'], axis=1)\n",
        "x = x.values\n",
        "y = df_houses_train['price'].values\n",
        "#split dataset\n",
        "x_train, x_test, y_train, y_test = train_test_split(x, y, test_size=0.1, random_state=11)"
      ],
      "metadata": {
        "id": "Li1IhaJqK8_U"
      },
      "execution_count": 45,
      "outputs": []
    },
    {
      "cell_type": "code",
      "source": [
        "x_train"
      ],
      "metadata": {
        "colab": {
          "base_uri": "https://localhost:8080/"
        },
        "id": "IGfgiPXpMwRH",
        "outputId": "7ea43011-bf50-45e3-b5e7-7b8543bbe0aa"
      },
      "execution_count": 15,
      "outputs": [
        {
          "output_type": "execute_result",
          "data": {
            "text/plain": [
              "array([[7.38500e+03, 6.00210e+04, 7.00000e+00, ..., 4.07200e+03,\n",
              "        1.25572e+05, 1.25572e+05],\n",
              "       [5.61400e+03, 6.00270e+04, 5.00000e+00, ..., 2.88800e+03,\n",
              "        4.19118e+05, 4.19118e+05],\n",
              "       [7.97800e+03, 6.00170e+04, 6.00000e+00, ..., 3.39600e+03,\n",
              "        4.09450e+04, 4.09450e+04],\n",
              "       ...,\n",
              "       [3.66600e+03, 6.00050e+04, 9.00000e+00, ..., 5.88400e+03,\n",
              "        4.92380e+05, 4.92380e+05],\n",
              "       [9.11000e+03, 6.00330e+04, 8.00000e+00, ..., 4.97400e+03,\n",
              "        4.26830e+05, 4.26830e+05],\n",
              "       [6.99200e+03, 6.00090e+04, 4.00000e+00, ..., 2.45000e+03,\n",
              "        6.74170e+04, 6.74170e+04]])"
            ]
          },
          "metadata": {},
          "execution_count": 15
        }
      ]
    },
    {
      "cell_type": "code",
      "source": [
        "#Train a model to predict house price when given the following inputs: 'bedrooms', 'bathrooms', 'garage', 'land', 'sqft', 'median_income'.\n",
        "model = Sequential()\n",
        "model.add(Dense(20, input_dim=x.shape[1], activation='relu')) # Hidden 1\n",
        "model.add(Dense(11, activation='relu')) # Hidden 2\n",
        "model.add(Dense(1)) # Output\n",
        "model.compile(loss='mean_squared_error', optimizer='adam')\n",
        "monitor = EarlyStopping(monitor='val_loss', min_delta=1e-3, \n",
        "                        patience=5, verbose=1, mode='auto', \n",
        "                        restore_best_weights=True)\n",
        "model.fit(x_train,y_train,validation_data=(x_test,y_test),callbacks=[monitor],verbose=2,epochs=1000)\n",
        "\n",
        "pred = model.predict(x_test)\n",
        "# Measure MSE error.  \n",
        "score = metrics.mean_squared_error(pred,y_test)\n",
        "print(\"Final score (MSE): {}\".format(score))\n"
      ],
      "metadata": {
        "colab": {
          "base_uri": "https://localhost:8080/"
        },
        "id": "DXo_PvQJIuuj",
        "outputId": "28f2b9f2-542d-406c-fbc4-087074878e15"
      },
      "execution_count": 46,
      "outputs": [
        {
          "output_type": "stream",
          "name": "stdout",
          "text": [
            "Epoch 1/1000\n",
            "282/282 - 2s - loss: 286231035904.0000 - val_loss: 175027273728.0000 - 2s/epoch - 6ms/step\n",
            "Epoch 2/1000\n",
            "282/282 - 1s - loss: 176645947392.0000 - val_loss: 172018745344.0000 - 522ms/epoch - 2ms/step\n",
            "Epoch 3/1000\n",
            "282/282 - 1s - loss: 173325811712.0000 - val_loss: 168359870464.0000 - 541ms/epoch - 2ms/step\n",
            "Epoch 4/1000\n",
            "282/282 - 1s - loss: 168986902528.0000 - val_loss: 163758931968.0000 - 515ms/epoch - 2ms/step\n",
            "Epoch 5/1000\n",
            "282/282 - 1s - loss: 163155181568.0000 - val_loss: 156476719104.0000 - 528ms/epoch - 2ms/step\n",
            "Epoch 6/1000\n",
            "282/282 - 0s - loss: 153564069888.0000 - val_loss: 145313300480.0000 - 497ms/epoch - 2ms/step\n",
            "Epoch 7/1000\n",
            "282/282 - 1s - loss: 134777806848.0000 - val_loss: 118142107648.0000 - 533ms/epoch - 2ms/step\n",
            "Epoch 8/1000\n",
            "282/282 - 1s - loss: 98543132672.0000 - val_loss: 71826259968.0000 - 510ms/epoch - 2ms/step\n",
            "Epoch 9/1000\n",
            "282/282 - 1s - loss: 49587519488.0000 - val_loss: 25910382592.0000 - 536ms/epoch - 2ms/step\n",
            "Epoch 10/1000\n",
            "282/282 - 1s - loss: 14552195072.0000 - val_loss: 4995468800.0000 - 547ms/epoch - 2ms/step\n",
            "Epoch 11/1000\n",
            "282/282 - 1s - loss: 3303986688.0000 - val_loss: 1374014720.0000 - 525ms/epoch - 2ms/step\n",
            "Epoch 12/1000\n",
            "282/282 - 1s - loss: 1572674304.0000 - val_loss: 891825408.0000 - 513ms/epoch - 2ms/step\n",
            "Epoch 13/1000\n",
            "282/282 - 1s - loss: 1155882624.0000 - val_loss: 688702656.0000 - 538ms/epoch - 2ms/step\n",
            "Epoch 14/1000\n",
            "282/282 - 1s - loss: 908791232.0000 - val_loss: 542988992.0000 - 540ms/epoch - 2ms/step\n",
            "Epoch 15/1000\n",
            "282/282 - 1s - loss: 728630912.0000 - val_loss: 441736800.0000 - 911ms/epoch - 3ms/step\n",
            "Epoch 16/1000\n",
            "282/282 - 1s - loss: 590626112.0000 - val_loss: 356292576.0000 - 956ms/epoch - 3ms/step\n",
            "Epoch 17/1000\n",
            "282/282 - 1s - loss: 483752512.0000 - val_loss: 288245632.0000 - 869ms/epoch - 3ms/step\n",
            "Epoch 18/1000\n",
            "282/282 - 1s - loss: 402058144.0000 - val_loss: 253167408.0000 - 751ms/epoch - 3ms/step\n",
            "Epoch 19/1000\n",
            "282/282 - 1s - loss: 337563776.0000 - val_loss: 218048464.0000 - 769ms/epoch - 3ms/step\n",
            "Epoch 20/1000\n",
            "282/282 - 1s - loss: 279808992.0000 - val_loss: 185296624.0000 - 536ms/epoch - 2ms/step\n",
            "Epoch 21/1000\n",
            "282/282 - 1s - loss: 236301008.0000 - val_loss: 164934160.0000 - 522ms/epoch - 2ms/step\n",
            "Epoch 22/1000\n",
            "282/282 - 1s - loss: 200855104.0000 - val_loss: 168975680.0000 - 534ms/epoch - 2ms/step\n",
            "Epoch 23/1000\n",
            "282/282 - 0s - loss: 175207360.0000 - val_loss: 172141360.0000 - 500ms/epoch - 2ms/step\n",
            "Epoch 24/1000\n",
            "282/282 - 1s - loss: 155435792.0000 - val_loss: 152892928.0000 - 531ms/epoch - 2ms/step\n",
            "Epoch 25/1000\n",
            "282/282 - 1s - loss: 136721424.0000 - val_loss: 123082120.0000 - 516ms/epoch - 2ms/step\n",
            "Epoch 26/1000\n",
            "282/282 - 1s - loss: 128553528.0000 - val_loss: 179347616.0000 - 513ms/epoch - 2ms/step\n",
            "Epoch 27/1000\n",
            "282/282 - 1s - loss: 110826056.0000 - val_loss: 98672392.0000 - 507ms/epoch - 2ms/step\n",
            "Epoch 28/1000\n",
            "282/282 - 1s - loss: 107165888.0000 - val_loss: 112580144.0000 - 528ms/epoch - 2ms/step\n",
            "Epoch 29/1000\n",
            "282/282 - 1s - loss: 101106688.0000 - val_loss: 123229320.0000 - 529ms/epoch - 2ms/step\n",
            "Epoch 30/1000\n",
            "282/282 - 1s - loss: 96479464.0000 - val_loss: 86871136.0000 - 537ms/epoch - 2ms/step\n",
            "Epoch 31/1000\n",
            "282/282 - 1s - loss: 97176720.0000 - val_loss: 93091032.0000 - 559ms/epoch - 2ms/step\n",
            "Epoch 32/1000\n",
            "282/282 - 1s - loss: 99235896.0000 - val_loss: 86096696.0000 - 574ms/epoch - 2ms/step\n",
            "Epoch 33/1000\n",
            "282/282 - 1s - loss: 93313712.0000 - val_loss: 136020208.0000 - 535ms/epoch - 2ms/step\n",
            "Epoch 34/1000\n",
            "282/282 - 1s - loss: 101431032.0000 - val_loss: 79039024.0000 - 528ms/epoch - 2ms/step\n",
            "Epoch 35/1000\n",
            "282/282 - 1s - loss: 91514736.0000 - val_loss: 89334592.0000 - 552ms/epoch - 2ms/step\n",
            "Epoch 36/1000\n",
            "282/282 - 1s - loss: 94054456.0000 - val_loss: 75773752.0000 - 511ms/epoch - 2ms/step\n",
            "Epoch 37/1000\n",
            "282/282 - 1s - loss: 84979136.0000 - val_loss: 122429472.0000 - 532ms/epoch - 2ms/step\n",
            "Epoch 38/1000\n",
            "282/282 - 1s - loss: 86433672.0000 - val_loss: 87189072.0000 - 688ms/epoch - 2ms/step\n",
            "Epoch 39/1000\n",
            "282/282 - 1s - loss: 90462352.0000 - val_loss: 107885344.0000 - 948ms/epoch - 3ms/step\n",
            "Epoch 40/1000\n",
            "282/282 - 1s - loss: 83894280.0000 - val_loss: 85495520.0000 - 854ms/epoch - 3ms/step\n",
            "Epoch 41/1000\n",
            "282/282 - 1s - loss: 83154272.0000 - val_loss: 71308272.0000 - 910ms/epoch - 3ms/step\n",
            "Epoch 42/1000\n",
            "282/282 - 1s - loss: 85415160.0000 - val_loss: 102686840.0000 - 883ms/epoch - 3ms/step\n",
            "Epoch 43/1000\n",
            "282/282 - 1s - loss: 78926672.0000 - val_loss: 71472176.0000 - 530ms/epoch - 2ms/step\n",
            "Epoch 44/1000\n",
            "282/282 - 1s - loss: 104593472.0000 - val_loss: 69082328.0000 - 557ms/epoch - 2ms/step\n",
            "Epoch 45/1000\n",
            "282/282 - 1s - loss: 81757584.0000 - val_loss: 68981264.0000 - 533ms/epoch - 2ms/step\n",
            "Epoch 46/1000\n",
            "282/282 - 1s - loss: 78395808.0000 - val_loss: 68270592.0000 - 541ms/epoch - 2ms/step\n",
            "Epoch 47/1000\n",
            "282/282 - 1s - loss: 84765312.0000 - val_loss: 100717848.0000 - 512ms/epoch - 2ms/step\n",
            "Epoch 48/1000\n",
            "282/282 - 1s - loss: 80239056.0000 - val_loss: 68167184.0000 - 541ms/epoch - 2ms/step\n",
            "Epoch 49/1000\n",
            "282/282 - 1s - loss: 82589944.0000 - val_loss: 72615936.0000 - 547ms/epoch - 2ms/step\n",
            "Epoch 50/1000\n",
            "282/282 - 1s - loss: 77476536.0000 - val_loss: 89215416.0000 - 565ms/epoch - 2ms/step\n",
            "Epoch 51/1000\n",
            "282/282 - 1s - loss: 82561944.0000 - val_loss: 66370840.0000 - 510ms/epoch - 2ms/step\n",
            "Epoch 52/1000\n",
            "282/282 - 1s - loss: 84780280.0000 - val_loss: 90595928.0000 - 539ms/epoch - 2ms/step\n",
            "Epoch 53/1000\n",
            "282/282 - 1s - loss: 79140576.0000 - val_loss: 82821016.0000 - 546ms/epoch - 2ms/step\n",
            "Epoch 54/1000\n",
            "282/282 - 1s - loss: 76727120.0000 - val_loss: 74106632.0000 - 536ms/epoch - 2ms/step\n",
            "Epoch 55/1000\n",
            "282/282 - 1s - loss: 76366840.0000 - val_loss: 81759600.0000 - 537ms/epoch - 2ms/step\n",
            "Epoch 56/1000\n",
            "Restoring model weights from the end of the best epoch: 51.\n",
            "282/282 - 1s - loss: 80850144.0000 - val_loss: 74943376.0000 - 566ms/epoch - 2ms/step\n",
            "Epoch 56: early stopping\n",
            "32/32 [==============================] - 0s 1ms/step\n",
            "Final score (MSE): 66370756.32128662\n"
          ]
        }
      ]
    },
    {
      "cell_type": "code",
      "source": [
        "x2 = df_houses_submit.drop(['id','zip'], axis=1)\n",
        "x2 = x2.values\n",
        "pred_price = model.predict(x2)"
      ],
      "metadata": {
        "colab": {
          "base_uri": "https://localhost:8080/"
        },
        "id": "QnlGnzamQ5Kz",
        "outputId": "36fb7761-7135-45d3-e599-823062ade3d6"
      },
      "execution_count": 54,
      "outputs": [
        {
          "output_type": "stream",
          "name": "stdout",
          "text": [
            "63/63 [==============================] - 0s 1ms/step\n"
          ]
        }
      ]
    },
    {
      "cell_type": "code",
      "source": [
        "df_Sb = pd.DataFrame(pred_price, columns=['price'])\n",
        "df_Sb['id'] = df_houses_submit['id']"
      ],
      "metadata": {
        "id": "mcWKA-lxR00Y"
      },
      "execution_count": 55,
      "outputs": []
    },
    {
      "cell_type": "code",
      "source": [
        "df_Sb"
      ],
      "metadata": {
        "colab": {
          "base_uri": "https://localhost:8080/",
          "height": 424
        },
        "id": "aLg2mY0yRfXZ",
        "outputId": "380aba9d-4035-4239-9080-95c6787c60f1"
      },
      "execution_count": 56,
      "outputs": [
        {
          "output_type": "execute_result",
          "data": {
            "text/plain": [
              "             price     id\n",
              "0     1.103997e+06  10001\n",
              "1     3.804884e+05  10014\n",
              "2     2.732141e+05  10057\n",
              "3     9.383687e+05  10142\n",
              "4     2.727377e+05  10205\n",
              "...            ...    ...\n",
              "1995  1.009308e+06  11665\n",
              "1996  7.975517e+05  11800\n",
              "1997  4.981129e+05  11819\n",
              "1998  3.618459e+05  11847\n",
              "1999  5.089314e+05  11999\n",
              "\n",
              "[2000 rows x 2 columns]"
            ],
            "text/html": [
              "\n",
              "  <div id=\"df-1cbbe7bb-bb23-46e9-88db-e9ecf5a5b2c4\">\n",
              "    <div class=\"colab-df-container\">\n",
              "      <div>\n",
              "<style scoped>\n",
              "    .dataframe tbody tr th:only-of-type {\n",
              "        vertical-align: middle;\n",
              "    }\n",
              "\n",
              "    .dataframe tbody tr th {\n",
              "        vertical-align: top;\n",
              "    }\n",
              "\n",
              "    .dataframe thead th {\n",
              "        text-align: right;\n",
              "    }\n",
              "</style>\n",
              "<table border=\"1\" class=\"dataframe\">\n",
              "  <thead>\n",
              "    <tr style=\"text-align: right;\">\n",
              "      <th></th>\n",
              "      <th>price</th>\n",
              "      <th>id</th>\n",
              "    </tr>\n",
              "  </thead>\n",
              "  <tbody>\n",
              "    <tr>\n",
              "      <th>0</th>\n",
              "      <td>1.103997e+06</td>\n",
              "      <td>10001</td>\n",
              "    </tr>\n",
              "    <tr>\n",
              "      <th>1</th>\n",
              "      <td>3.804884e+05</td>\n",
              "      <td>10014</td>\n",
              "    </tr>\n",
              "    <tr>\n",
              "      <th>2</th>\n",
              "      <td>2.732141e+05</td>\n",
              "      <td>10057</td>\n",
              "    </tr>\n",
              "    <tr>\n",
              "      <th>3</th>\n",
              "      <td>9.383687e+05</td>\n",
              "      <td>10142</td>\n",
              "    </tr>\n",
              "    <tr>\n",
              "      <th>4</th>\n",
              "      <td>2.727377e+05</td>\n",
              "      <td>10205</td>\n",
              "    </tr>\n",
              "    <tr>\n",
              "      <th>...</th>\n",
              "      <td>...</td>\n",
              "      <td>...</td>\n",
              "    </tr>\n",
              "    <tr>\n",
              "      <th>1995</th>\n",
              "      <td>1.009308e+06</td>\n",
              "      <td>11665</td>\n",
              "    </tr>\n",
              "    <tr>\n",
              "      <th>1996</th>\n",
              "      <td>7.975517e+05</td>\n",
              "      <td>11800</td>\n",
              "    </tr>\n",
              "    <tr>\n",
              "      <th>1997</th>\n",
              "      <td>4.981129e+05</td>\n",
              "      <td>11819</td>\n",
              "    </tr>\n",
              "    <tr>\n",
              "      <th>1998</th>\n",
              "      <td>3.618459e+05</td>\n",
              "      <td>11847</td>\n",
              "    </tr>\n",
              "    <tr>\n",
              "      <th>1999</th>\n",
              "      <td>5.089314e+05</td>\n",
              "      <td>11999</td>\n",
              "    </tr>\n",
              "  </tbody>\n",
              "</table>\n",
              "<p>2000 rows × 2 columns</p>\n",
              "</div>\n",
              "      <button class=\"colab-df-convert\" onclick=\"convertToInteractive('df-1cbbe7bb-bb23-46e9-88db-e9ecf5a5b2c4')\"\n",
              "              title=\"Convert this dataframe to an interactive table.\"\n",
              "              style=\"display:none;\">\n",
              "        \n",
              "  <svg xmlns=\"http://www.w3.org/2000/svg\" height=\"24px\"viewBox=\"0 0 24 24\"\n",
              "       width=\"24px\">\n",
              "    <path d=\"M0 0h24v24H0V0z\" fill=\"none\"/>\n",
              "    <path d=\"M18.56 5.44l.94 2.06.94-2.06 2.06-.94-2.06-.94-.94-2.06-.94 2.06-2.06.94zm-11 1L8.5 8.5l.94-2.06 2.06-.94-2.06-.94L8.5 2.5l-.94 2.06-2.06.94zm10 10l.94 2.06.94-2.06 2.06-.94-2.06-.94-.94-2.06-.94 2.06-2.06.94z\"/><path d=\"M17.41 7.96l-1.37-1.37c-.4-.4-.92-.59-1.43-.59-.52 0-1.04.2-1.43.59L10.3 9.45l-7.72 7.72c-.78.78-.78 2.05 0 2.83L4 21.41c.39.39.9.59 1.41.59.51 0 1.02-.2 1.41-.59l7.78-7.78 2.81-2.81c.8-.78.8-2.07 0-2.86zM5.41 20L4 18.59l7.72-7.72 1.47 1.35L5.41 20z\"/>\n",
              "  </svg>\n",
              "      </button>\n",
              "      \n",
              "  <style>\n",
              "    .colab-df-container {\n",
              "      display:flex;\n",
              "      flex-wrap:wrap;\n",
              "      gap: 12px;\n",
              "    }\n",
              "\n",
              "    .colab-df-convert {\n",
              "      background-color: #E8F0FE;\n",
              "      border: none;\n",
              "      border-radius: 50%;\n",
              "      cursor: pointer;\n",
              "      display: none;\n",
              "      fill: #1967D2;\n",
              "      height: 32px;\n",
              "      padding: 0 0 0 0;\n",
              "      width: 32px;\n",
              "    }\n",
              "\n",
              "    .colab-df-convert:hover {\n",
              "      background-color: #E2EBFA;\n",
              "      box-shadow: 0px 1px 2px rgba(60, 64, 67, 0.3), 0px 1px 3px 1px rgba(60, 64, 67, 0.15);\n",
              "      fill: #174EA6;\n",
              "    }\n",
              "\n",
              "    [theme=dark] .colab-df-convert {\n",
              "      background-color: #3B4455;\n",
              "      fill: #D2E3FC;\n",
              "    }\n",
              "\n",
              "    [theme=dark] .colab-df-convert:hover {\n",
              "      background-color: #434B5C;\n",
              "      box-shadow: 0px 1px 3px 1px rgba(0, 0, 0, 0.15);\n",
              "      filter: drop-shadow(0px 1px 2px rgba(0, 0, 0, 0.3));\n",
              "      fill: #FFFFFF;\n",
              "    }\n",
              "  </style>\n",
              "\n",
              "      <script>\n",
              "        const buttonEl =\n",
              "          document.querySelector('#df-1cbbe7bb-bb23-46e9-88db-e9ecf5a5b2c4 button.colab-df-convert');\n",
              "        buttonEl.style.display =\n",
              "          google.colab.kernel.accessAllowed ? 'block' : 'none';\n",
              "\n",
              "        async function convertToInteractive(key) {\n",
              "          const element = document.querySelector('#df-1cbbe7bb-bb23-46e9-88db-e9ecf5a5b2c4');\n",
              "          const dataTable =\n",
              "            await google.colab.kernel.invokeFunction('convertToInteractive',\n",
              "                                                     [key], {});\n",
              "          if (!dataTable) return;\n",
              "\n",
              "          const docLinkHtml = 'Like what you see? Visit the ' +\n",
              "            '<a target=\"_blank\" href=https://colab.research.google.com/notebooks/data_table.ipynb>data table notebook</a>'\n",
              "            + ' to learn more about interactive tables.';\n",
              "          element.innerHTML = '';\n",
              "          dataTable['output_type'] = 'display_data';\n",
              "          await google.colab.output.renderOutput(dataTable, element);\n",
              "          const docLink = document.createElement('div');\n",
              "          docLink.innerHTML = docLinkHtml;\n",
              "          element.appendChild(docLink);\n",
              "        }\n",
              "      </script>\n",
              "    </div>\n",
              "  </div>\n",
              "  "
            ]
          },
          "metadata": {},
          "execution_count": 56
        }
      ]
    },
    {
      "cell_type": "code",
      "source": [
        "submit(source_file=file,data=[df_Sb],key=key,no=5)"
      ],
      "metadata": {
        "colab": {
          "base_uri": "https://localhost:8080/"
        },
        "id": "2YuUmLYoOhmu",
        "outputId": "9ac79737-5787-40f6-fd65-1165eaf43765"
      },
      "execution_count": 57,
      "outputs": [
        {
          "output_type": "stream",
          "name": "stdout",
          "text": [
            "Success: Submitted Assignment 5 for li.zhen1:\n",
            "You have submitted this assignment 2 times. (this is fine)\n",
            "Note: The mean difference 1261.6854500001064 for column 'price' is acceptable and is less than the maximum allowed value of '10000' for this assignment.\n",
            "No warnings or errors (only notes), you will probably do well, but no guarantee. :-)\n"
          ]
        }
      ]
    }
  ],
  "metadata": {
    "anaconda-cloud": {},
    "colab": {
      "provenance": [],
      "include_colab_link": true
    },
    "kernelspec": {
      "display_name": "Python 3.10 (tensorflow)",
      "language": "python",
      "name": "tensorflow"
    },
    "language_info": {
      "codemirror_mode": {
        "name": "ipython",
        "version": 3
      },
      "file_extension": ".py",
      "mimetype": "text/x-python",
      "name": "python",
      "nbconvert_exporter": "python",
      "pygments_lexer": "ipython3",
      "version": "3.10.8"
    }
  },
  "nbformat": 4,
  "nbformat_minor": 0
}